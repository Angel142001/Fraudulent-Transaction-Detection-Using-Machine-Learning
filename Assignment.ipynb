{
 "cells": [
  {
   "cell_type": "code",
   "execution_count": 34,
   "id": "7368c727-ac53-4113-8506-683c58d10a77",
   "metadata": {},
   "outputs": [],
   "source": [
    "import numpy as np\n",
    "import pandas as pd\n",
    "import matplotlib.pyplot as plt\n",
    "import seaborn as sns\n",
    "import scipy.stats as stats\n",
    "import statistics\n",
    "from scipy.stats import ttest_ind, chi2_contingency\n",
    "from warnings import filterwarnings\n",
    "filterwarnings('ignore')\n",
    "from statsmodels.stats.outliers_influence import variance_inflation_factor\n",
    "from sklearn.preprocessing import LabelEncoder, StandardScaler\n",
    "from sklearn.model_selection import train_test_split\n",
    "from imblearn.over_sampling import SMOTE\n",
    "from sklearn.model_selection import RandomizedSearchCV\n",
    "from sklearn.ensemble import RandomForestClassifier\n",
    "from xgboost import XGBClassifier\n",
    "from lightgbm import LGBMClassifier\n",
    "from sklearn.metrics import classification_report, confusion_matrix, accuracy_score, precision_score, recall_score, f1_score\n",
    "from lightgbm import LGBMClassifier\n",
    "from sklearn.metrics import precision_recall_curve\n"
   ]
  },
  {
   "cell_type": "code",
   "execution_count": 2,
   "id": "e80d5ed4-a673-4187-9c11-ca145a0ed540",
   "metadata": {},
   "outputs": [
    {
     "data": {
      "text/html": [
       "<div>\n",
       "<style scoped>\n",
       "    .dataframe tbody tr th:only-of-type {\n",
       "        vertical-align: middle;\n",
       "    }\n",
       "\n",
       "    .dataframe tbody tr th {\n",
       "        vertical-align: top;\n",
       "    }\n",
       "\n",
       "    .dataframe thead th {\n",
       "        text-align: right;\n",
       "    }\n",
       "</style>\n",
       "<table border=\"1\" class=\"dataframe\">\n",
       "  <thead>\n",
       "    <tr style=\"text-align: right;\">\n",
       "      <th></th>\n",
       "      <th>step</th>\n",
       "      <th>type</th>\n",
       "      <th>amount</th>\n",
       "      <th>nameOrig</th>\n",
       "      <th>oldbalanceOrg</th>\n",
       "      <th>newbalanceOrig</th>\n",
       "      <th>nameDest</th>\n",
       "      <th>oldbalanceDest</th>\n",
       "      <th>newbalanceDest</th>\n",
       "      <th>isFraud</th>\n",
       "      <th>isFlaggedFraud</th>\n",
       "    </tr>\n",
       "  </thead>\n",
       "  <tbody>\n",
       "    <tr>\n",
       "      <th>0</th>\n",
       "      <td>1</td>\n",
       "      <td>PAYMENT</td>\n",
       "      <td>9839.64</td>\n",
       "      <td>C1231006815</td>\n",
       "      <td>170136.0</td>\n",
       "      <td>160296.36</td>\n",
       "      <td>M1979787155</td>\n",
       "      <td>0.0</td>\n",
       "      <td>0.0</td>\n",
       "      <td>0</td>\n",
       "      <td>0</td>\n",
       "    </tr>\n",
       "    <tr>\n",
       "      <th>1</th>\n",
       "      <td>1</td>\n",
       "      <td>PAYMENT</td>\n",
       "      <td>1864.28</td>\n",
       "      <td>C1666544295</td>\n",
       "      <td>21249.0</td>\n",
       "      <td>19384.72</td>\n",
       "      <td>M2044282225</td>\n",
       "      <td>0.0</td>\n",
       "      <td>0.0</td>\n",
       "      <td>0</td>\n",
       "      <td>0</td>\n",
       "    </tr>\n",
       "    <tr>\n",
       "      <th>2</th>\n",
       "      <td>1</td>\n",
       "      <td>TRANSFER</td>\n",
       "      <td>181.00</td>\n",
       "      <td>C1305486145</td>\n",
       "      <td>181.0</td>\n",
       "      <td>0.00</td>\n",
       "      <td>C553264065</td>\n",
       "      <td>0.0</td>\n",
       "      <td>0.0</td>\n",
       "      <td>1</td>\n",
       "      <td>0</td>\n",
       "    </tr>\n",
       "    <tr>\n",
       "      <th>3</th>\n",
       "      <td>1</td>\n",
       "      <td>CASH_OUT</td>\n",
       "      <td>181.00</td>\n",
       "      <td>C840083671</td>\n",
       "      <td>181.0</td>\n",
       "      <td>0.00</td>\n",
       "      <td>C38997010</td>\n",
       "      <td>21182.0</td>\n",
       "      <td>0.0</td>\n",
       "      <td>1</td>\n",
       "      <td>0</td>\n",
       "    </tr>\n",
       "    <tr>\n",
       "      <th>4</th>\n",
       "      <td>1</td>\n",
       "      <td>PAYMENT</td>\n",
       "      <td>11668.14</td>\n",
       "      <td>C2048537720</td>\n",
       "      <td>41554.0</td>\n",
       "      <td>29885.86</td>\n",
       "      <td>M1230701703</td>\n",
       "      <td>0.0</td>\n",
       "      <td>0.0</td>\n",
       "      <td>0</td>\n",
       "      <td>0</td>\n",
       "    </tr>\n",
       "  </tbody>\n",
       "</table>\n",
       "</div>"
      ],
      "text/plain": [
       "   step      type    amount     nameOrig  oldbalanceOrg  newbalanceOrig  \\\n",
       "0     1   PAYMENT   9839.64  C1231006815       170136.0       160296.36   \n",
       "1     1   PAYMENT   1864.28  C1666544295        21249.0        19384.72   \n",
       "2     1  TRANSFER    181.00  C1305486145          181.0            0.00   \n",
       "3     1  CASH_OUT    181.00   C840083671          181.0            0.00   \n",
       "4     1   PAYMENT  11668.14  C2048537720        41554.0        29885.86   \n",
       "\n",
       "      nameDest  oldbalanceDest  newbalanceDest  isFraud  isFlaggedFraud  \n",
       "0  M1979787155             0.0             0.0        0               0  \n",
       "1  M2044282225             0.0             0.0        0               0  \n",
       "2   C553264065             0.0             0.0        1               0  \n",
       "3    C38997010         21182.0             0.0        1               0  \n",
       "4  M1230701703             0.0             0.0        0               0  "
      ]
     },
     "execution_count": 2,
     "metadata": {},
     "output_type": "execute_result"
    }
   ],
   "source": [
    "df = pd.read_csv('Fraud.csv')\n",
    "df.head()"
   ]
  },
  {
   "cell_type": "code",
   "execution_count": 3,
   "id": "104d0f31-6be5-44f8-b047-eb6dbfd34ec6",
   "metadata": {},
   "outputs": [
    {
     "name": "stdout",
     "output_type": "stream",
     "text": [
      "<class 'pandas.core.frame.DataFrame'>\n",
      "RangeIndex: 6362620 entries, 0 to 6362619\n",
      "Data columns (total 11 columns):\n",
      " #   Column          Dtype  \n",
      "---  ------          -----  \n",
      " 0   step            int64  \n",
      " 1   type            object \n",
      " 2   amount          float64\n",
      " 3   nameOrig        object \n",
      " 4   oldbalanceOrg   float64\n",
      " 5   newbalanceOrig  float64\n",
      " 6   nameDest        object \n",
      " 7   oldbalanceDest  float64\n",
      " 8   newbalanceDest  float64\n",
      " 9   isFraud         int64  \n",
      " 10  isFlaggedFraud  int64  \n",
      "dtypes: float64(5), int64(3), object(3)\n",
      "memory usage: 534.0+ MB\n"
     ]
    }
   ],
   "source": [
    "df.info()"
   ]
  },
  {
   "cell_type": "code",
   "execution_count": 4,
   "id": "56f85b34-d34e-48f0-aa81-05f29a99a50a",
   "metadata": {},
   "outputs": [
    {
     "data": {
      "text/plain": [
       "(6362620, 11)"
      ]
     },
     "execution_count": 4,
     "metadata": {},
     "output_type": "execute_result"
    }
   ],
   "source": [
    "df.shape"
   ]
  },
  {
   "cell_type": "code",
   "execution_count": 5,
   "id": "95fb6e87-f5a3-4926-9e2b-253332f4f2b4",
   "metadata": {},
   "outputs": [
    {
     "data": {
      "text/plain": [
       "69988820"
      ]
     },
     "execution_count": 5,
     "metadata": {},
     "output_type": "execute_result"
    }
   ],
   "source": [
    "df.size"
   ]
  },
  {
   "cell_type": "markdown",
   "id": "e8c5d8cc-63fb-4b0a-9f42-0eca88bb2797",
   "metadata": {},
   "source": [
    "##### Data Cleaning"
   ]
  },
  {
   "cell_type": "code",
   "execution_count": 6,
   "id": "f233a856-74a8-44ea-a71a-9407e597af60",
   "metadata": {},
   "outputs": [
    {
     "data": {
      "text/html": [
       "<div>\n",
       "<style scoped>\n",
       "    .dataframe tbody tr th:only-of-type {\n",
       "        vertical-align: middle;\n",
       "    }\n",
       "\n",
       "    .dataframe tbody tr th {\n",
       "        vertical-align: top;\n",
       "    }\n",
       "\n",
       "    .dataframe thead th {\n",
       "        text-align: right;\n",
       "    }\n",
       "</style>\n",
       "<table border=\"1\" class=\"dataframe\">\n",
       "  <thead>\n",
       "    <tr style=\"text-align: right;\">\n",
       "      <th></th>\n",
       "      <th>step</th>\n",
       "      <th>type</th>\n",
       "      <th>amount</th>\n",
       "      <th>nameOrig</th>\n",
       "      <th>oldbalanceOrg</th>\n",
       "      <th>newbalanceOrig</th>\n",
       "      <th>nameDest</th>\n",
       "      <th>oldbalanceDest</th>\n",
       "      <th>newbalanceDest</th>\n",
       "      <th>isFraud</th>\n",
       "      <th>isFlaggedFraud</th>\n",
       "    </tr>\n",
       "  </thead>\n",
       "  <tbody>\n",
       "  </tbody>\n",
       "</table>\n",
       "</div>"
      ],
      "text/plain": [
       "Empty DataFrame\n",
       "Columns: [step, type, amount, nameOrig, oldbalanceOrg, newbalanceOrig, nameDest, oldbalanceDest, newbalanceDest, isFraud, isFlaggedFraud]\n",
       "Index: []"
      ]
     },
     "execution_count": 6,
     "metadata": {},
     "output_type": "execute_result"
    }
   ],
   "source": [
    "# Checking duplicates\n",
    "\n",
    "df[df.duplicated()]"
   ]
  },
  {
   "cell_type": "code",
   "execution_count": 7,
   "id": "2387705d-9c74-4c98-9c1c-dc7cce5aad9b",
   "metadata": {},
   "outputs": [
    {
     "data": {
      "text/plain": [
       "['step',\n",
       " 'type',\n",
       " 'amount',\n",
       " 'nameOrig',\n",
       " 'oldbalanceOrg',\n",
       " 'newbalanceOrig',\n",
       " 'nameDest',\n",
       " 'oldbalanceDest',\n",
       " 'newbalanceDest',\n",
       " 'isFraud',\n",
       " 'isFlaggedFraud']"
      ]
     },
     "execution_count": 7,
     "metadata": {},
     "output_type": "execute_result"
    }
   ],
   "source": [
    "col= df.columns.to_list()\n",
    "col"
   ]
  },
  {
   "cell_type": "code",
   "execution_count": 8,
   "id": "e757487e-1f94-4520-ad45-adb7e512247d",
   "metadata": {
    "scrolled": true
   },
   "outputs": [
    {
     "name": "stdout",
     "output_type": "stream",
     "text": [
      "step\n",
      "[  1   2   3   4   5   6   7   8   9  10  11  12  13  14  15  16  17  18\n",
      "  19  20  21  22  23  24  25  26  27  28  29  30  31  32  33  34  35  36\n",
      "  37  38  39  40  41  42  43  44  45  46  47  48  49  50  51  52  53  54\n",
      "  55  56  57  58  59  60  61  62  63  64  65  66  67  68  69  70  71  72\n",
      "  73  74  75  76  77  78  79  80  81  82  83  84  85  86  87  88  89  90\n",
      "  91  92  93  94  95  96  97  98  99 100 101 102 103 104 105 106 107 108\n",
      " 109 110 111 112 113 114 115 116 117 118 119 120 121 122 123 124 125 126\n",
      " 127 128 129 130 131 132 133 134 135 136 137 138 139 140 141 142 143 144\n",
      " 145 146 147 148 149 150 151 152 153 154 155 156 157 158 159 160 161 162\n",
      " 163 164 165 166 167 168 169 170 171 172 173 174 175 176 177 178 179 180\n",
      " 181 182 183 184 185 186 187 188 189 190 191 192 193 194 195 196 197 198\n",
      " 199 200 201 202 203 204 205 206 207 208 209 210 211 212 213 214 215 216\n",
      " 217 218 219 220 221 222 223 224 225 226 227 228 229 230 231 232 233 234\n",
      " 235 236 237 238 239 240 241 242 243 244 245 246 247 248 249 250 251 252\n",
      " 253 254 255 256 257 258 259 260 261 262 263 264 265 266 267 268 269 270\n",
      " 271 272 273 274 275 276 277 278 279 280 281 282 283 284 285 286 287 288\n",
      " 289 290 291 292 293 294 295 296 297 298 299 300 301 302 303 304 305 306\n",
      " 307 308 309 310 311 312 313 314 315 316 317 318 319 320 321 322 323 324\n",
      " 325 326 327 328 329 330 331 332 333 334 335 336 337 338 339 340 341 342\n",
      " 343 344 345 346 347 348 349 350 351 352 353 354 355 356 357 358 359 360\n",
      " 361 362 363 364 365 366 367 368 369 370 371 372 373 374 375 376 377 378\n",
      " 379 380 381 382 383 384 385 386 387 388 389 390 391 392 393 394 395 396\n",
      " 397 398 399 400 401 402 403 404 405 406 407 408 409 410 411 412 413 414\n",
      " 415 416 417 418 419 420 421 422 423 424 425 426 427 428 429 430 431 432\n",
      " 433 434 435 436 437 438 439 440 441 442 443 444 445 446 447 448 449 450\n",
      " 451 452 453 454 455 456 457 458 459 460 461 462 463 464 465 466 467 468\n",
      " 469 470 471 472 473 474 475 476 477 478 479 480 481 482 483 484 485 486\n",
      " 487 488 489 490 491 492 493 494 495 496 497 498 499 500 501 502 503 504\n",
      " 505 506 507 508 509 510 511 512 513 514 515 516 517 518 519 520 521 522\n",
      " 523 524 525 526 527 528 529 530 531 532 533 534 535 536 537 538 539 540\n",
      " 541 542 543 544 545 546 547 548 549 550 551 552 553 554 555 556 557 558\n",
      " 559 560 561 562 563 564 565 566 567 568 569 570 571 572 573 574 575 576\n",
      " 577 578 579 580 581 582 583 584 585 586 587 588 589 590 591 592 593 594\n",
      " 595 596 597 598 599 600 601 602 603 604 605 606 607 608 609 610 611 612\n",
      " 613 614 615 616 617 618 619 620 621 622 623 624 625 626 627 628 629 630\n",
      " 631 632 633 634 635 636 637 638 639 640 641 642 643 644 645 646 647 648\n",
      " 649 650 651 652 653 654 655 656 657 658 659 660 661 662 663 664 665 666\n",
      " 667 668 669 670 671 672 673 674 675 676 677 678 679 680 681 682 683 684\n",
      " 685 686 687 688 689 690 691 692 693 694 695 696 697 698 699 700 701 702\n",
      " 703 704 705 706 707 708 709 710 711 712 713 714 715 716 717 718 719 720\n",
      " 721 722 723 724 725 726 727 728 729 730 731 732 733 734 735 736 737 738\n",
      " 739 740 741 742 743]\n",
      "\n",
      "*****\n",
      "type\n",
      "['PAYMENT' 'TRANSFER' 'CASH_OUT' 'DEBIT' 'CASH_IN']\n",
      "\n",
      "*****\n",
      "amount\n",
      "[9.83964000e+03 1.86428000e+03 1.81000000e+02 ... 3.39682130e+05\n",
      " 6.31140928e+06 8.50002520e+05]\n",
      "\n",
      "*****\n",
      "nameOrig\n",
      "['C1231006815' 'C1666544295' 'C1305486145' ... 'C1162922333' 'C1685995037'\n",
      " 'C1280323807']\n",
      "\n",
      "*****\n",
      "oldbalanceOrg\n",
      "[1.70136000e+05 2.12490000e+04 1.81000000e+02 ... 3.39682130e+05\n",
      " 6.31140928e+06 8.50002520e+05]\n",
      "\n",
      "*****\n",
      "newbalanceOrig\n",
      "[1.60296360e+05 1.93847200e+04 0.00000000e+00 ... 2.56745479e+07\n",
      " 1.56745479e+07 5.67454789e+06]\n",
      "\n",
      "*****\n",
      "nameDest\n",
      "['M1979787155' 'M2044282225' 'C553264065' ... 'C1850423904' 'C1881841831'\n",
      " 'C2080388513']\n",
      "\n",
      "*****\n",
      "oldbalanceDest\n",
      "[      0.     21182.     41898.   ...  503464.5    68488.84 6510099.11]\n",
      "\n",
      "*****\n",
      "newbalanceDest\n",
      "[      0.     40348.79  157982.12 ... 1762283.33 6379898.11 7360101.63]\n",
      "\n",
      "*****\n",
      "isFraud\n",
      "[0 1]\n",
      "\n",
      "*****\n",
      "isFlaggedFraud\n",
      "[0 1]\n",
      "\n",
      "*****\n"
     ]
    }
   ],
   "source": [
    "# Unique items\n",
    "\n",
    "for i in col:\n",
    "    print(i)\n",
    "    print(df[i].unique())\n",
    "    print()\n",
    "    print('*****')"
   ]
  },
  {
   "cell_type": "code",
   "execution_count": 9,
   "id": "0012548b-5932-410f-91fd-292b31168a7b",
   "metadata": {},
   "outputs": [
    {
     "data": {
      "text/plain": [
       "0.0"
      ]
     },
     "execution_count": 9,
     "metadata": {},
     "output_type": "execute_result"
    }
   ],
   "source": [
    "# Checking Missing values\n",
    "\n",
    "(df.isnull().sum().sum() / (df.size)) * 100"
   ]
  },
  {
   "cell_type": "code",
   "execution_count": 10,
   "id": "62092901-99a6-4f5e-ae9a-968adebe9906",
   "metadata": {},
   "outputs": [
    {
     "data": {
      "text/html": [
       "<div>\n",
       "<style scoped>\n",
       "    .dataframe tbody tr th:only-of-type {\n",
       "        vertical-align: middle;\n",
       "    }\n",
       "\n",
       "    .dataframe tbody tr th {\n",
       "        vertical-align: top;\n",
       "    }\n",
       "\n",
       "    .dataframe thead th {\n",
       "        text-align: right;\n",
       "    }\n",
       "</style>\n",
       "<table border=\"1\" class=\"dataframe\">\n",
       "  <thead>\n",
       "    <tr style=\"text-align: right;\">\n",
       "      <th></th>\n",
       "      <th>count</th>\n",
       "      <th>mean</th>\n",
       "      <th>std</th>\n",
       "      <th>min</th>\n",
       "      <th>25%</th>\n",
       "      <th>50%</th>\n",
       "      <th>75%</th>\n",
       "      <th>max</th>\n",
       "    </tr>\n",
       "  </thead>\n",
       "  <tbody>\n",
       "    <tr>\n",
       "      <th>step</th>\n",
       "      <td>6362620.0</td>\n",
       "      <td>2.433972e+02</td>\n",
       "      <td>1.423320e+02</td>\n",
       "      <td>1.0</td>\n",
       "      <td>156.00</td>\n",
       "      <td>239.000</td>\n",
       "      <td>3.350000e+02</td>\n",
       "      <td>7.430000e+02</td>\n",
       "    </tr>\n",
       "    <tr>\n",
       "      <th>amount</th>\n",
       "      <td>6362620.0</td>\n",
       "      <td>1.798619e+05</td>\n",
       "      <td>6.038582e+05</td>\n",
       "      <td>0.0</td>\n",
       "      <td>13389.57</td>\n",
       "      <td>74871.940</td>\n",
       "      <td>2.087215e+05</td>\n",
       "      <td>9.244552e+07</td>\n",
       "    </tr>\n",
       "    <tr>\n",
       "      <th>oldbalanceOrg</th>\n",
       "      <td>6362620.0</td>\n",
       "      <td>8.338831e+05</td>\n",
       "      <td>2.888243e+06</td>\n",
       "      <td>0.0</td>\n",
       "      <td>0.00</td>\n",
       "      <td>14208.000</td>\n",
       "      <td>1.073152e+05</td>\n",
       "      <td>5.958504e+07</td>\n",
       "    </tr>\n",
       "    <tr>\n",
       "      <th>newbalanceOrig</th>\n",
       "      <td>6362620.0</td>\n",
       "      <td>8.551137e+05</td>\n",
       "      <td>2.924049e+06</td>\n",
       "      <td>0.0</td>\n",
       "      <td>0.00</td>\n",
       "      <td>0.000</td>\n",
       "      <td>1.442584e+05</td>\n",
       "      <td>4.958504e+07</td>\n",
       "    </tr>\n",
       "    <tr>\n",
       "      <th>oldbalanceDest</th>\n",
       "      <td>6362620.0</td>\n",
       "      <td>1.100702e+06</td>\n",
       "      <td>3.399180e+06</td>\n",
       "      <td>0.0</td>\n",
       "      <td>0.00</td>\n",
       "      <td>132705.665</td>\n",
       "      <td>9.430367e+05</td>\n",
       "      <td>3.560159e+08</td>\n",
       "    </tr>\n",
       "    <tr>\n",
       "      <th>newbalanceDest</th>\n",
       "      <td>6362620.0</td>\n",
       "      <td>1.224996e+06</td>\n",
       "      <td>3.674129e+06</td>\n",
       "      <td>0.0</td>\n",
       "      <td>0.00</td>\n",
       "      <td>214661.440</td>\n",
       "      <td>1.111909e+06</td>\n",
       "      <td>3.561793e+08</td>\n",
       "    </tr>\n",
       "    <tr>\n",
       "      <th>isFraud</th>\n",
       "      <td>6362620.0</td>\n",
       "      <td>1.290820e-03</td>\n",
       "      <td>3.590480e-02</td>\n",
       "      <td>0.0</td>\n",
       "      <td>0.00</td>\n",
       "      <td>0.000</td>\n",
       "      <td>0.000000e+00</td>\n",
       "      <td>1.000000e+00</td>\n",
       "    </tr>\n",
       "    <tr>\n",
       "      <th>isFlaggedFraud</th>\n",
       "      <td>6362620.0</td>\n",
       "      <td>2.514687e-06</td>\n",
       "      <td>1.585775e-03</td>\n",
       "      <td>0.0</td>\n",
       "      <td>0.00</td>\n",
       "      <td>0.000</td>\n",
       "      <td>0.000000e+00</td>\n",
       "      <td>1.000000e+00</td>\n",
       "    </tr>\n",
       "  </tbody>\n",
       "</table>\n",
       "</div>"
      ],
      "text/plain": [
       "                    count          mean           std  min       25%  \\\n",
       "step            6362620.0  2.433972e+02  1.423320e+02  1.0    156.00   \n",
       "amount          6362620.0  1.798619e+05  6.038582e+05  0.0  13389.57   \n",
       "oldbalanceOrg   6362620.0  8.338831e+05  2.888243e+06  0.0      0.00   \n",
       "newbalanceOrig  6362620.0  8.551137e+05  2.924049e+06  0.0      0.00   \n",
       "oldbalanceDest  6362620.0  1.100702e+06  3.399180e+06  0.0      0.00   \n",
       "newbalanceDest  6362620.0  1.224996e+06  3.674129e+06  0.0      0.00   \n",
       "isFraud         6362620.0  1.290820e-03  3.590480e-02  0.0      0.00   \n",
       "isFlaggedFraud  6362620.0  2.514687e-06  1.585775e-03  0.0      0.00   \n",
       "\n",
       "                       50%           75%           max  \n",
       "step               239.000  3.350000e+02  7.430000e+02  \n",
       "amount           74871.940  2.087215e+05  9.244552e+07  \n",
       "oldbalanceOrg    14208.000  1.073152e+05  5.958504e+07  \n",
       "newbalanceOrig       0.000  1.442584e+05  4.958504e+07  \n",
       "oldbalanceDest  132705.665  9.430367e+05  3.560159e+08  \n",
       "newbalanceDest  214661.440  1.111909e+06  3.561793e+08  \n",
       "isFraud              0.000  0.000000e+00  1.000000e+00  \n",
       "isFlaggedFraud       0.000  0.000000e+00  1.000000e+00  "
      ]
     },
     "execution_count": 10,
     "metadata": {},
     "output_type": "execute_result"
    }
   ],
   "source": [
    "df.describe().T"
   ]
  },
  {
   "cell_type": "code",
   "execution_count": 11,
   "id": "8bb5d859-ef86-4c6c-853b-c93db90b91e1",
   "metadata": {},
   "outputs": [
    {
     "name": "stdout",
     "output_type": "stream",
     "text": [
      "step\n",
      "Number of outliers: 102688\n",
      "Filtered data size (if outliers were removed): 6259932\n",
      "************************************************************\n",
      "amount\n",
      "Number of outliers: 338078\n",
      "Filtered data size (if outliers were removed): 6024542\n",
      "************************************************************\n",
      "oldbalanceOrg\n",
      "Number of outliers: 1112507\n",
      "Filtered data size (if outliers were removed): 5250113\n",
      "************************************************************\n",
      "newbalanceOrig\n",
      "Number of outliers: 1053391\n",
      "Filtered data size (if outliers were removed): 5309229\n",
      "************************************************************\n",
      "oldbalanceDest\n",
      "Number of outliers: 786135\n",
      "Filtered data size (if outliers were removed): 5576485\n",
      "************************************************************\n",
      "newbalanceDest\n",
      "Number of outliers: 738527\n",
      "Filtered data size (if outliers were removed): 5624093\n",
      "************************************************************\n"
     ]
    }
   ],
   "source": [
    "# Checking Outliers\n",
    "\n",
    "exclude_cols = ['isFraud', 'isFlaggedFraud']\n",
    "num = [col for col in df.select_dtypes(include='number').columns if col not in exclude_cols]\n",
    "\n",
    "for i in num:\n",
    "    Q1 = df[i].quantile(0.25)\n",
    "    Q3 = df[i].quantile(0.75)\n",
    "    IQR = Q3 - Q1\n",
    "    LW = Q1 - 1.5 * IQR\n",
    "    UW = Q3 + 1.5 * IQR\n",
    "    Outliers = (df[i] < LW) | (df[i] > UW)\n",
    "    \n",
    "    print(i)\n",
    "    print(\"Number of outliers:\", Outliers.sum())\n",
    "    print(\"Filtered data size (if outliers were removed):\", len(df) - Outliers.sum())\n",
    "    print(\"*\" * 60)"
   ]
  },
  {
   "cell_type": "raw",
   "id": "6962d9fb-5c09-4272-a680-ace1b9fbfca7",
   "metadata": {},
   "source": [
    "Since the dataset represents financial transactions of customers, removing outliers could negatively impact the model’s ability to detect fraudulent behavior. In financial data, it is natural to observe extreme values, especially in transaction amounts and account balances. These high or low values may actually represent important patterns — particularly in fraud detection, where fraudulent transactions often exhibit outlier-like behavior. Therefore, outliers were retained in all relevant columns to preserve data integrity and ensure the model captures true fraudulent patterns."
   ]
  },
  {
   "cell_type": "markdown",
   "id": "baf57c80-b970-44dd-b944-163461dc1fbe",
   "metadata": {},
   "source": [
    "##### STATISTICAL TESTING"
   ]
  },
  {
   "cell_type": "code",
   "execution_count": 12,
   "id": "8ed27683-f324-4163-b9d2-a5fa96a3377b",
   "metadata": {},
   "outputs": [
    {
     "name": "stdout",
     "output_type": "stream",
     "text": [
      "Feature: amount\n",
      "H0: There is no significant difference in amount between fraud and non-fraud transactions.\n",
      "H1: There is a significant difference in amount between fraud and non-fraud transactions.\n",
      "p-value: 0.00000\n",
      "Result: Reject H0. Feature is statistically significant.\n",
      "\n",
      "Feature: oldbalanceOrg\n",
      "H0: There is no significant difference in oldbalanceOrg between fraud and non-fraud transactions.\n",
      "H1: There is a significant difference in oldbalanceOrg between fraud and non-fraud transactions.\n",
      "p-value: 0.00000\n",
      "Result: Reject H0. Feature is statistically significant.\n",
      "\n",
      "Feature: newbalanceOrig\n",
      "H0: There is no significant difference in newbalanceOrig between fraud and non-fraud transactions.\n",
      "H1: There is a significant difference in newbalanceOrig between fraud and non-fraud transactions.\n",
      "p-value: 0.00000\n",
      "Result: Reject H0. Feature is statistically significant.\n",
      "\n",
      "Feature: oldbalanceDest\n",
      "H0: There is no significant difference in oldbalanceDest between fraud and non-fraud transactions.\n",
      "H1: There is a significant difference in oldbalanceDest between fraud and non-fraud transactions.\n",
      "p-value: 0.00000\n",
      "Result: Reject H0. Feature is statistically significant.\n",
      "\n",
      "Feature: newbalanceDest\n",
      "H0: There is no significant difference in newbalanceDest between fraud and non-fraud transactions.\n",
      "H1: There is a significant difference in newbalanceDest between fraud and non-fraud transactions.\n",
      "p-value: 0.20434\n",
      "Result: Fail to reject H0. Feature may not be significant.\n",
      "\n"
     ]
    }
   ],
   "source": [
    "fraud_data = df[df['isFraud'] == 1]\n",
    "nonfraud_data = df[df['isFraud'] == 0]\n",
    "\n",
    "# T-Tests for Numerical Features\n",
    "numerical_cols = ['amount', 'oldbalanceOrg', 'newbalanceOrig', 'oldbalanceDest', 'newbalanceDest']\n",
    "\n",
    "for col in numerical_cols:\n",
    "    print(f\"Feature: {col}\")\n",
    "    print(\"H0: There is no significant difference in\", col, \"between fraud and non-fraud transactions.\")\n",
    "    print(\"H1: There is a significant difference in\", col, \"between fraud and non-fraud transactions.\")\n",
    "    \n",
    "    stat, p_value = ttest_ind(fraud_data[col], nonfraud_data[col], equal_var=False)\n",
    "    print(f\"p-value: {p_value:.5f}\")\n",
    "    \n",
    "    if p_value < 0.05:\n",
    "        print(\"Result: Reject H0. Feature is statistically significant.\\n\")\n",
    "    else:\n",
    "        print(\"Result: Fail to reject H0. Feature may not be significant.\\n\")"
   ]
  },
  {
   "cell_type": "code",
   "execution_count": 13,
   "id": "a026fe75-660c-47dc-8b56-193bd135b394",
   "metadata": {},
   "outputs": [
    {
     "name": "stdout",
     "output_type": "stream",
     "text": [
      "H0: 'type' is independent of fraud.\n",
      "H1: 'type' is associated with fraud.\n",
      "p-value: 0.00000\n",
      "Result: Reject H0. 'type' is significantly associated with fraud.\n",
      "\n"
     ]
    }
   ],
   "source": [
    "# Chi-square Test for Categorical Feature: 'type'\n",
    "print(\"H0: 'type' is independent of fraud.\\nH1: 'type' is associated with fraud.\")\n",
    "\n",
    "contingency_table = pd.crosstab(df['type'], df['isFraud'])\n",
    "chi2_stat, chi2_p, dof, expected = chi2_contingency(contingency_table)\n",
    "\n",
    "print(f\"p-value: {chi2_p:.5f}\")\n",
    "if chi2_p < 0.05:\n",
    "    print(\"Result: Reject H0. 'type' is significantly associated with fraud.\\n\")\n",
    "else:\n",
    "    print(\"Result: Fail to reject H0. 'type' is not significantly associated with fraud.\\n\")"
   ]
  },
  {
   "cell_type": "raw",
   "id": "826e8712-34de-4820-bb57-486665da4395",
   "metadata": {},
   "source": [
    "From the hypothesis testing, the variable newbalanceDest is found to be statistically not significant with the target variable. However, it is being retained for the time being. Further analysis, including model performance evaluation and feature importance assessment, will determine whether this column should be dropped in the later stages of the project"
   ]
  },
  {
   "cell_type": "markdown",
   "id": "d5ed8fa0-4f8a-4421-b36b-7fd6c8241110",
   "metadata": {},
   "source": [
    "#### Multicollinearity"
   ]
  },
  {
   "cell_type": "code",
   "execution_count": 14,
   "id": "d09923cd-8b19-45e4-b540-47897ffad18f",
   "metadata": {},
   "outputs": [
    {
     "name": "stdout",
     "output_type": "stream",
     "text": [
      "          Feature         VIF\n",
      "0            step    1.188495\n",
      "1          amount    4.011315\n",
      "2   oldbalanceOrg  465.122355\n",
      "3  newbalanceOrig  466.903890\n",
      "4  oldbalanceDest   71.765327\n",
      "5  newbalanceDest   83.231611\n"
     ]
    }
   ],
   "source": [
    "excluded_cols = ['isFraud', 'isFlaggedFraud']\n",
    "num_features = [col for col in num if col not in excluded_cols]\n",
    "\n",
    "for col in num_features:\n",
    "    df[col] = pd.to_numeric(df[col], errors='coerce')\n",
    "    \n",
    "numeric_data = df[num_features].dropna()\n",
    "\n",
    "# Calculating VIF\n",
    "vif_data = pd.DataFrame()\n",
    "vif_data[\"Feature\"] = num_features\n",
    "vif_data[\"VIF\"] = [variance_inflation_factor(numeric_data.values, i) for i in range(len(num_features))]\n",
    "\n",
    "print(vif_data)"
   ]
  },
  {
   "cell_type": "raw",
   "id": "55657bcb-6875-4dad-85e8-1a492c3c0c04",
   "metadata": {},
   "source": [
    "oldbalanceOrg and newbalanceOrig (and similarly oldbalanceDest and newbalanceDest) are highly correlated, causing severe multicollinearity with very high VIF scores. To fix this, I created new features as their differences (diffOrig and diffDest) and dropped the original columns. This reduces multicollinearity while keeping important transaction information, improving model stability."
   ]
  },
  {
   "cell_type": "code",
   "execution_count": 15,
   "id": "0e1f04bf-bc24-4094-89e4-f7d774a20399",
   "metadata": {},
   "outputs": [],
   "source": [
    "# Creating difference features\n",
    "df['diffOrig'] = df['oldbalanceOrg'] - df['newbalanceOrig']\n",
    "df['diffDest'] = df['oldbalanceDest'] - df['newbalanceDest']\n",
    "\n",
    "# Droping the original columns \n",
    "df = df.drop(columns=['oldbalanceOrg', 'newbalanceOrig', 'oldbalanceDest', 'newbalanceDest'])\n"
   ]
  },
  {
   "cell_type": "code",
   "execution_count": 16,
   "id": "9098209f-67d3-481c-9a25-9e6ff60aa2af",
   "metadata": {},
   "outputs": [
    {
     "data": {
      "text/html": [
       "<div>\n",
       "<style scoped>\n",
       "    .dataframe tbody tr th:only-of-type {\n",
       "        vertical-align: middle;\n",
       "    }\n",
       "\n",
       "    .dataframe tbody tr th {\n",
       "        vertical-align: top;\n",
       "    }\n",
       "\n",
       "    .dataframe thead th {\n",
       "        text-align: right;\n",
       "    }\n",
       "</style>\n",
       "<table border=\"1\" class=\"dataframe\">\n",
       "  <thead>\n",
       "    <tr style=\"text-align: right;\">\n",
       "      <th></th>\n",
       "      <th>step</th>\n",
       "      <th>type</th>\n",
       "      <th>amount</th>\n",
       "      <th>nameOrig</th>\n",
       "      <th>nameDest</th>\n",
       "      <th>isFraud</th>\n",
       "      <th>isFlaggedFraud</th>\n",
       "      <th>diffOrig</th>\n",
       "      <th>diffDest</th>\n",
       "    </tr>\n",
       "  </thead>\n",
       "  <tbody>\n",
       "    <tr>\n",
       "      <th>0</th>\n",
       "      <td>1</td>\n",
       "      <td>PAYMENT</td>\n",
       "      <td>9839.64</td>\n",
       "      <td>C1231006815</td>\n",
       "      <td>M1979787155</td>\n",
       "      <td>0</td>\n",
       "      <td>0</td>\n",
       "      <td>9839.64</td>\n",
       "      <td>0.00</td>\n",
       "    </tr>\n",
       "    <tr>\n",
       "      <th>1</th>\n",
       "      <td>1</td>\n",
       "      <td>PAYMENT</td>\n",
       "      <td>1864.28</td>\n",
       "      <td>C1666544295</td>\n",
       "      <td>M2044282225</td>\n",
       "      <td>0</td>\n",
       "      <td>0</td>\n",
       "      <td>1864.28</td>\n",
       "      <td>0.00</td>\n",
       "    </tr>\n",
       "    <tr>\n",
       "      <th>2</th>\n",
       "      <td>1</td>\n",
       "      <td>TRANSFER</td>\n",
       "      <td>181.00</td>\n",
       "      <td>C1305486145</td>\n",
       "      <td>C553264065</td>\n",
       "      <td>1</td>\n",
       "      <td>0</td>\n",
       "      <td>181.00</td>\n",
       "      <td>0.00</td>\n",
       "    </tr>\n",
       "    <tr>\n",
       "      <th>3</th>\n",
       "      <td>1</td>\n",
       "      <td>CASH_OUT</td>\n",
       "      <td>181.00</td>\n",
       "      <td>C840083671</td>\n",
       "      <td>C38997010</td>\n",
       "      <td>1</td>\n",
       "      <td>0</td>\n",
       "      <td>181.00</td>\n",
       "      <td>21182.00</td>\n",
       "    </tr>\n",
       "    <tr>\n",
       "      <th>4</th>\n",
       "      <td>1</td>\n",
       "      <td>PAYMENT</td>\n",
       "      <td>11668.14</td>\n",
       "      <td>C2048537720</td>\n",
       "      <td>M1230701703</td>\n",
       "      <td>0</td>\n",
       "      <td>0</td>\n",
       "      <td>11668.14</td>\n",
       "      <td>0.00</td>\n",
       "    </tr>\n",
       "    <tr>\n",
       "      <th>...</th>\n",
       "      <td>...</td>\n",
       "      <td>...</td>\n",
       "      <td>...</td>\n",
       "      <td>...</td>\n",
       "      <td>...</td>\n",
       "      <td>...</td>\n",
       "      <td>...</td>\n",
       "      <td>...</td>\n",
       "      <td>...</td>\n",
       "    </tr>\n",
       "    <tr>\n",
       "      <th>6362615</th>\n",
       "      <td>743</td>\n",
       "      <td>CASH_OUT</td>\n",
       "      <td>339682.13</td>\n",
       "      <td>C786484425</td>\n",
       "      <td>C776919290</td>\n",
       "      <td>1</td>\n",
       "      <td>0</td>\n",
       "      <td>339682.13</td>\n",
       "      <td>-339682.13</td>\n",
       "    </tr>\n",
       "    <tr>\n",
       "      <th>6362616</th>\n",
       "      <td>743</td>\n",
       "      <td>TRANSFER</td>\n",
       "      <td>6311409.28</td>\n",
       "      <td>C1529008245</td>\n",
       "      <td>C1881841831</td>\n",
       "      <td>1</td>\n",
       "      <td>0</td>\n",
       "      <td>6311409.28</td>\n",
       "      <td>0.00</td>\n",
       "    </tr>\n",
       "    <tr>\n",
       "      <th>6362617</th>\n",
       "      <td>743</td>\n",
       "      <td>CASH_OUT</td>\n",
       "      <td>6311409.28</td>\n",
       "      <td>C1162922333</td>\n",
       "      <td>C1365125890</td>\n",
       "      <td>1</td>\n",
       "      <td>0</td>\n",
       "      <td>6311409.28</td>\n",
       "      <td>-6311409.27</td>\n",
       "    </tr>\n",
       "    <tr>\n",
       "      <th>6362618</th>\n",
       "      <td>743</td>\n",
       "      <td>TRANSFER</td>\n",
       "      <td>850002.52</td>\n",
       "      <td>C1685995037</td>\n",
       "      <td>C2080388513</td>\n",
       "      <td>1</td>\n",
       "      <td>0</td>\n",
       "      <td>850002.52</td>\n",
       "      <td>0.00</td>\n",
       "    </tr>\n",
       "    <tr>\n",
       "      <th>6362619</th>\n",
       "      <td>743</td>\n",
       "      <td>CASH_OUT</td>\n",
       "      <td>850002.52</td>\n",
       "      <td>C1280323807</td>\n",
       "      <td>C873221189</td>\n",
       "      <td>1</td>\n",
       "      <td>0</td>\n",
       "      <td>850002.52</td>\n",
       "      <td>-850002.52</td>\n",
       "    </tr>\n",
       "  </tbody>\n",
       "</table>\n",
       "<p>6362620 rows × 9 columns</p>\n",
       "</div>"
      ],
      "text/plain": [
       "         step      type      amount     nameOrig     nameDest  isFraud  \\\n",
       "0           1   PAYMENT     9839.64  C1231006815  M1979787155        0   \n",
       "1           1   PAYMENT     1864.28  C1666544295  M2044282225        0   \n",
       "2           1  TRANSFER      181.00  C1305486145   C553264065        1   \n",
       "3           1  CASH_OUT      181.00   C840083671    C38997010        1   \n",
       "4           1   PAYMENT    11668.14  C2048537720  M1230701703        0   \n",
       "...       ...       ...         ...          ...          ...      ...   \n",
       "6362615   743  CASH_OUT   339682.13   C786484425   C776919290        1   \n",
       "6362616   743  TRANSFER  6311409.28  C1529008245  C1881841831        1   \n",
       "6362617   743  CASH_OUT  6311409.28  C1162922333  C1365125890        1   \n",
       "6362618   743  TRANSFER   850002.52  C1685995037  C2080388513        1   \n",
       "6362619   743  CASH_OUT   850002.52  C1280323807   C873221189        1   \n",
       "\n",
       "         isFlaggedFraud    diffOrig    diffDest  \n",
       "0                     0     9839.64        0.00  \n",
       "1                     0     1864.28        0.00  \n",
       "2                     0      181.00        0.00  \n",
       "3                     0      181.00    21182.00  \n",
       "4                     0    11668.14        0.00  \n",
       "...                 ...         ...         ...  \n",
       "6362615               0   339682.13  -339682.13  \n",
       "6362616               0  6311409.28        0.00  \n",
       "6362617               0  6311409.28 -6311409.27  \n",
       "6362618               0   850002.52        0.00  \n",
       "6362619               0   850002.52  -850002.52  \n",
       "\n",
       "[6362620 rows x 9 columns]"
      ]
     },
     "execution_count": 16,
     "metadata": {},
     "output_type": "execute_result"
    }
   ],
   "source": [
    "df"
   ]
  },
  {
   "cell_type": "raw",
   "id": "973c8d2a-1416-431e-ab41-14e518d7d9da",
   "metadata": {},
   "source": [
    "After creating diffOrig (oldbalanceOrg - newbalanceOrig), I found that it is identical to the amount column. Since it provides no additional information and is a duplicate, I am dropped diffOrig and retained amount"
   ]
  },
  {
   "cell_type": "code",
   "execution_count": 17,
   "id": "c18ff32f-076a-414e-b87b-5c61a45c3a14",
   "metadata": {},
   "outputs": [],
   "source": [
    "# Dropping columns which are not relevant\n",
    "df = df.drop(columns=['nameOrig', 'nameDest','diffOrig'])"
   ]
  },
  {
   "cell_type": "code",
   "execution_count": 18,
   "id": "433bf5f6-24c1-4071-b74f-75205230a860",
   "metadata": {},
   "outputs": [
    {
     "data": {
      "text/html": [
       "<div>\n",
       "<style scoped>\n",
       "    .dataframe tbody tr th:only-of-type {\n",
       "        vertical-align: middle;\n",
       "    }\n",
       "\n",
       "    .dataframe tbody tr th {\n",
       "        vertical-align: top;\n",
       "    }\n",
       "\n",
       "    .dataframe thead th {\n",
       "        text-align: right;\n",
       "    }\n",
       "</style>\n",
       "<table border=\"1\" class=\"dataframe\">\n",
       "  <thead>\n",
       "    <tr style=\"text-align: right;\">\n",
       "      <th></th>\n",
       "      <th>step</th>\n",
       "      <th>type</th>\n",
       "      <th>amount</th>\n",
       "      <th>isFraud</th>\n",
       "      <th>isFlaggedFraud</th>\n",
       "      <th>diffDest</th>\n",
       "    </tr>\n",
       "  </thead>\n",
       "  <tbody>\n",
       "    <tr>\n",
       "      <th>0</th>\n",
       "      <td>1</td>\n",
       "      <td>PAYMENT</td>\n",
       "      <td>9839.64</td>\n",
       "      <td>0</td>\n",
       "      <td>0</td>\n",
       "      <td>0.00</td>\n",
       "    </tr>\n",
       "    <tr>\n",
       "      <th>1</th>\n",
       "      <td>1</td>\n",
       "      <td>PAYMENT</td>\n",
       "      <td>1864.28</td>\n",
       "      <td>0</td>\n",
       "      <td>0</td>\n",
       "      <td>0.00</td>\n",
       "    </tr>\n",
       "    <tr>\n",
       "      <th>2</th>\n",
       "      <td>1</td>\n",
       "      <td>TRANSFER</td>\n",
       "      <td>181.00</td>\n",
       "      <td>1</td>\n",
       "      <td>0</td>\n",
       "      <td>0.00</td>\n",
       "    </tr>\n",
       "    <tr>\n",
       "      <th>3</th>\n",
       "      <td>1</td>\n",
       "      <td>CASH_OUT</td>\n",
       "      <td>181.00</td>\n",
       "      <td>1</td>\n",
       "      <td>0</td>\n",
       "      <td>21182.00</td>\n",
       "    </tr>\n",
       "    <tr>\n",
       "      <th>4</th>\n",
       "      <td>1</td>\n",
       "      <td>PAYMENT</td>\n",
       "      <td>11668.14</td>\n",
       "      <td>0</td>\n",
       "      <td>0</td>\n",
       "      <td>0.00</td>\n",
       "    </tr>\n",
       "    <tr>\n",
       "      <th>...</th>\n",
       "      <td>...</td>\n",
       "      <td>...</td>\n",
       "      <td>...</td>\n",
       "      <td>...</td>\n",
       "      <td>...</td>\n",
       "      <td>...</td>\n",
       "    </tr>\n",
       "    <tr>\n",
       "      <th>6362615</th>\n",
       "      <td>743</td>\n",
       "      <td>CASH_OUT</td>\n",
       "      <td>339682.13</td>\n",
       "      <td>1</td>\n",
       "      <td>0</td>\n",
       "      <td>-339682.13</td>\n",
       "    </tr>\n",
       "    <tr>\n",
       "      <th>6362616</th>\n",
       "      <td>743</td>\n",
       "      <td>TRANSFER</td>\n",
       "      <td>6311409.28</td>\n",
       "      <td>1</td>\n",
       "      <td>0</td>\n",
       "      <td>0.00</td>\n",
       "    </tr>\n",
       "    <tr>\n",
       "      <th>6362617</th>\n",
       "      <td>743</td>\n",
       "      <td>CASH_OUT</td>\n",
       "      <td>6311409.28</td>\n",
       "      <td>1</td>\n",
       "      <td>0</td>\n",
       "      <td>-6311409.27</td>\n",
       "    </tr>\n",
       "    <tr>\n",
       "      <th>6362618</th>\n",
       "      <td>743</td>\n",
       "      <td>TRANSFER</td>\n",
       "      <td>850002.52</td>\n",
       "      <td>1</td>\n",
       "      <td>0</td>\n",
       "      <td>0.00</td>\n",
       "    </tr>\n",
       "    <tr>\n",
       "      <th>6362619</th>\n",
       "      <td>743</td>\n",
       "      <td>CASH_OUT</td>\n",
       "      <td>850002.52</td>\n",
       "      <td>1</td>\n",
       "      <td>0</td>\n",
       "      <td>-850002.52</td>\n",
       "    </tr>\n",
       "  </tbody>\n",
       "</table>\n",
       "<p>6362620 rows × 6 columns</p>\n",
       "</div>"
      ],
      "text/plain": [
       "         step      type      amount  isFraud  isFlaggedFraud    diffDest\n",
       "0           1   PAYMENT     9839.64        0               0        0.00\n",
       "1           1   PAYMENT     1864.28        0               0        0.00\n",
       "2           1  TRANSFER      181.00        1               0        0.00\n",
       "3           1  CASH_OUT      181.00        1               0    21182.00\n",
       "4           1   PAYMENT    11668.14        0               0        0.00\n",
       "...       ...       ...         ...      ...             ...         ...\n",
       "6362615   743  CASH_OUT   339682.13        1               0  -339682.13\n",
       "6362616   743  TRANSFER  6311409.28        1               0        0.00\n",
       "6362617   743  CASH_OUT  6311409.28        1               0 -6311409.27\n",
       "6362618   743  TRANSFER   850002.52        1               0        0.00\n",
       "6362619   743  CASH_OUT   850002.52        1               0  -850002.52\n",
       "\n",
       "[6362620 rows x 6 columns]"
      ]
     },
     "execution_count": 18,
     "metadata": {},
     "output_type": "execute_result"
    }
   ],
   "source": [
    "df"
   ]
  },
  {
   "cell_type": "markdown",
   "id": "e2baeb9c-eec5-406d-b8c1-668f9f78cf7a",
   "metadata": {},
   "source": [
    "#### EDA"
   ]
  },
  {
   "cell_type": "code",
   "execution_count": 19,
   "id": "44ce5408-4a48-405a-9c36-da18fa03d679",
   "metadata": {},
   "outputs": [
    {
     "data": {
      "image/png": "[encoded data removed]",
      "text/plain": [
       "<Figure size 1000x600 with 1 Axes>"
      ]
     },
     "metadata": {},
     "output_type": "display_data"
    }
   ],
   "source": [
    "# Box plot\n",
    "plt.figure(figsize=(10, 6))\n",
    "sns.boxplot(x='type', y='amount', data=df)\n",
    "plt.title('Box Plot of Transaction Amount by Type')\n",
    "plt.xlabel('Transaction Type')\n",
    "plt.ylabel('Amount')\n",
    "plt.show()"
   ]
  },
  {
   "cell_type": "markdown",
   "id": "6bcf48ec-4d0d-4ec6-82b6-65123dd55955",
   "metadata": {},
   "source": [
    "Inferences\n",
    "* TRANSFER and CASH_OUT transactions have significantly higher and more varied amounts, with many extreme outliers. These types are likely targets for fraudulent activities due to high-value movements."
   ]
  },
  {
   "cell_type": "code",
   "execution_count": 20,
   "id": "6b1e2499-a8f7-4346-a921-4e8e457355ba",
   "metadata": {},
   "outputs": [
    {
     "data": {
      "image/png": "[encoded data removed]",
      "text/plain": [
       "<Figure size 800x500 with 1 Axes>"
      ]
     },
     "metadata": {},
     "output_type": "display_data"
    }
   ],
   "source": [
    "# Count plot\n",
    "plt.figure(figsize=(8, 5))\n",
    "sns.countplot(x='type', data=df, order=df['type'].value_counts().index)\n",
    "plt.title('Count of Transactions by Type')\n",
    "plt.xlabel('Transaction Type')\n",
    "plt.ylabel('Count')\n",
    "plt.show()"
   ]
  },
  {
   "cell_type": "markdown",
   "id": "4c803416-620d-4af8-8705-6abdacdd481d",
   "metadata": {},
   "source": [
    "Inferences\n",
    "* CASH_OUT and PAYMENT dominate transaction volume, followed by CASH_IN, while TRANSFERs are relatively less frequent and DEBITs are rare. Given the low count but potentially high-value nature of TRANSFERs, they warrant focused fraud monitoring despite their smaller share."
   ]
  },
  {
   "cell_type": "code",
   "execution_count": 21,
   "id": "5cee9161-5207-48e0-81f2-bcb38cb9b184",
   "metadata": {},
   "outputs": [
    {
     "data": {
      "image/png": "[encoded data removed]",
      "text/plain": [
       "<Figure size 600x600 with 1 Axes>"
      ]
     },
     "metadata": {},
     "output_type": "display_data"
    }
   ],
   "source": [
    "# pie Chart\n",
    "fraud_counts = df['isFraud'].value_counts()\n",
    "labels = ['Not Fraud', 'Fraud']\n",
    "plt.figure(figsize=(6, 6))\n",
    "plt.pie(fraud_counts, labels=labels, autopct='%1.1f%%', startangle=140, colors=['lightgreen', 'red'])\n",
    "plt.title('Fraud vs Non-Fraud Transactions')\n",
    "plt.show()"
   ]
  },
  {
   "cell_type": "markdown",
   "id": "e9848006-58cb-4ca4-abe0-12d0848626bc",
   "metadata": {},
   "source": [
    "Inferences\n",
    "* The dataset is highly imbalanced — only 0.1% of transactions are fraudulent. "
   ]
  },
  {
   "cell_type": "code",
   "execution_count": 22,
   "id": "33491a98-d7e8-4684-bf69-a8c7303320fc",
   "metadata": {},
   "outputs": [
    {
     "data": {
      "image/png": "[encoded data removed]",
      "text/plain": [
       "<Figure size 640x480 with 1 Axes>"
      ]
     },
     "metadata": {},
     "output_type": "display_data"
    }
   ],
   "source": [
    "# Count plot\n",
    "sns.countplot(x='type', hue='isFraud', data=df)\n",
    "plt.title('Fraud Count Across Transaction Types')\n",
    "plt.show()"
   ]
  },
  {
   "cell_type": "markdown",
   "id": "cfe90139-ab0f-4a1e-806f-a7649f8eb1d3",
   "metadata": {},
   "source": [
    "Infereneces\n",
    "* Fraudulent transactions occur almost exclusively in TRANSFER and CASH_OUT types. Other types (PAYMENT, CASH_IN, DEBIT) show virtually no fraud, indicating these two types should be prioritized for fraud detection."
   ]
  },
  {
   "cell_type": "code",
   "execution_count": 23,
   "id": "398c50e6-f447-4996-85e0-35542d4b82e4",
   "metadata": {},
   "outputs": [
    {
     "data": {
      "image/png": "[encoded data removed]",
      "text/plain": [
       "<Figure size 800x600 with 2 Axes>"
      ]
     },
     "metadata": {},
     "output_type": "display_data"
    }
   ],
   "source": [
    "# Heatmap\n",
    "plt.figure(figsize=(8, 6))\n",
    "sns.heatmap(df[['amount', 'isFraud', 'isFlaggedFraud', 'diffDest']].corr(), annot=True, cmap='coolwarm')\n",
    "plt.title('Correlation Heatmap')\n",
    "plt.show()"
   ]
  },
  {
   "cell_type": "markdown",
   "id": "19225074-e564-470d-8c1c-667de39d97b3",
   "metadata": {},
   "source": [
    "Inferences\n",
    "* amount and diffDest are strongly negatively correlated (-0.85), suggesting larger transactions often reduce the destination balance significantly. However, none of the features show strong linear correlation with isFraud"
   ]
  },
  {
   "cell_type": "code",
   "execution_count": 24,
   "id": "4e7527e6-7bd2-466b-ab77-386d11d9a117",
   "metadata": {},
   "outputs": [
    {
     "data": {
      "image/png": "[encoded data removed]",
      "text/plain": [
       "<Figure size 1000x500 with 1 Axes>"
      ]
     },
     "metadata": {},
     "output_type": "display_data"
    },
    {
     "data": {
      "image/png": "[encoded data removed]",
      "text/plain": [
       "<Figure size 1000x500 with 1 Axes>"
      ]
     },
     "metadata": {},
     "output_type": "display_data"
    }
   ],
   "source": [
    "# Box plot\n",
    "plt.figure(figsize=(10, 5))\n",
    "sns.boxplot(x='isFraud', y='amount', data=df)\n",
    "plt.title('Amount distribution by Fraud')\n",
    "plt.xlabel('isFraud (0=No, 1=Yes)')\n",
    "plt.ylabel('Transaction Amount')\n",
    "plt.show()\n",
    "\n",
    "plt.figure(figsize=(10, 5))\n",
    "sns.boxplot(x='isFraud', y='diffDest', data=df)\n",
    "plt.title('diffDest distribution by Fraud')\n",
    "plt.xlabel('isFraud (0=No, 1=Yes)')\n",
    "plt.ylabel('diffDest')\n",
    "plt.show()\n"
   ]
  },
  {
   "cell_type": "markdown",
   "id": "8c508083-8adc-4b07-9764-05c1c3201d33",
   "metadata": {},
   "source": [
    "Inferences\n",
    "* Fraudulent transactions tend to involve higher amounts compared to non-fraudulent ones.\n",
    "* For fraud cases, diffDest values are consistently negative, suggesting the recipient’s balance did not increase — a strong indicator of money being siphoned off or not credited properly."
   ]
  },
  {
   "cell_type": "code",
   "execution_count": 25,
   "id": "14a5ab64-c903-4648-9035-1bdec5a74dd5",
   "metadata": {},
   "outputs": [
    {
     "data": {
      "image/png": "[encoded data removed]",
      "text/plain": [
       "<Figure size 1200x500 with 1 Axes>"
      ]
     },
     "metadata": {},
     "output_type": "display_data"
    }
   ],
   "source": [
    "# Bar plot\n",
    "df['day'] = df['step'] // 24\n",
    "fraud_per_day = df.groupby('day')['isFraud'].sum()\n",
    "\n",
    "plt.figure(figsize=(12, 5))\n",
    "fraud_per_day.plot(kind='bar', color='grey')\n",
    "plt.title('Number of Fraud Transactions Per Day')\n",
    "plt.xlabel('Day')\n",
    "plt.ylabel('Fraud Count')\n",
    "plt.show()\n",
    "\n"
   ]
  },
  {
   "cell_type": "markdown",
   "id": "b42ef76d-82e9-47be-bea3-cb809414e025",
   "metadata": {},
   "source": [
    "Inferences\n",
    "* Fraudulent transactions occur consistently across all 30 days, with no major spikes or drops. This suggests fraud attempts are systematic and ongoing, rather than isolated to specific dates."
   ]
  },
  {
   "cell_type": "code",
   "execution_count": 26,
   "id": "cb7edc39-a065-4a9a-9b4e-bf290ba28252",
   "metadata": {},
   "outputs": [],
   "source": [
    "df=df.drop(columns=['day'])"
   ]
  },
  {
   "cell_type": "code",
   "execution_count": 27,
   "id": "bcd89073-57e7-48f4-b619-c27653bc00e2",
   "metadata": {},
   "outputs": [],
   "source": [
    "# Encoding\n",
    "\n",
    "le = LabelEncoder()\n",
    "df['type'] = le.fit_transform(df['type'])"
   ]
  },
  {
   "cell_type": "code",
   "execution_count": 28,
   "id": "33f744ba-df73-4e77-b45b-e61303f5a50d",
   "metadata": {},
   "outputs": [],
   "source": [
    "# Splitting data \n",
    "\n",
    "X = df.drop('isFraud', axis=1)\n",
    "y = df['isFraud']\n",
    "\n",
    "X_train, X_test, y_train, y_test = train_test_split(X, y, test_size=0.3,  random_state=42)"
   ]
  },
  {
   "cell_type": "raw",
   "id": "01b805ce-dd6f-4326-9ec3-b6c13687bbfe",
   "metadata": {},
   "source": [
    "Since the data is severely imbalanced, SMOTE is applied to balance the dataset."
   ]
  },
  {
   "cell_type": "code",
   "execution_count": 29,
   "id": "972f142c-28be-4db8-887f-351cb7eb0834",
   "metadata": {},
   "outputs": [],
   "source": [
    "# Scaling and applying SMOTE\n",
    "\n",
    "scaler = StandardScaler()\n",
    "X_train_scaled = scaler.fit_transform(X_train)\n",
    "X_test_scaled = scaler.transform(X_test)\n",
    "\n",
    "smote = SMOTE(random_state=42)\n",
    "X_train_resampled, y_train_resampled = smote.fit_resample(X_train_scaled, y_train)\n"
   ]
  },
  {
   "cell_type": "markdown",
   "id": "2dbe6741-b8ae-48ca-a968-f6a725945e80",
   "metadata": {},
   "source": [
    "#### Base model Building"
   ]
  },
  {
   "cell_type": "markdown",
   "id": "26bfe676-d494-41e7-8f86-279190cbeb59",
   "metadata": {},
   "source": [
    "#### RandomForest"
   ]
  },
  {
   "cell_type": "code",
   "execution_count": 47,
   "id": "56e7336b-3314-47b5-8703-e19706f1e96b",
   "metadata": {},
   "outputs": [
    {
     "name": "stdout",
     "output_type": "stream",
     "text": [
      "Training Accuracy: 0.9047072473907702\n",
      "\n",
      "Training Classification Report:\n",
      "               precision    recall  f1-score   support\n",
      "\n",
      "           0       0.87      0.95      0.91   4448056\n",
      "           1       0.95      0.86      0.90   4448056\n",
      "\n",
      "    accuracy                           0.90   8896112\n",
      "   macro avg       0.91      0.90      0.90   8896112\n",
      "weighted avg       0.91      0.90      0.90   8896112\n",
      "\n",
      "\n",
      "Training Confusion Matrix:\n",
      " [[4237135  210921]\n",
      " [ 636814 3811242]]\n",
      "\n",
      "Test Accuracy: 0.9524362605341825\n",
      "\n",
      "Test Classification Report:\n",
      "               precision    recall  f1-score   support\n",
      "\n",
      "           0       1.00      0.95      0.98   1906351\n",
      "           1       0.02      0.85      0.04      2435\n",
      "\n",
      "    accuracy                           0.95   1908786\n",
      "   macro avg       0.51      0.90      0.51   1908786\n",
      "weighted avg       1.00      0.95      0.97   1908786\n",
      "\n",
      "\n",
      "Test Confusion Matrix:\n",
      " [[1815920   90431]\n",
      " [    358    2077]]\n"
     ]
    }
   ],
   "source": [
    "rf_model = RandomForestClassifier(random_state=42, n_estimators=80, max_depth=4)\n",
    "rf_model.fit(X_train_resampled, y_train_resampled)\n",
    "\n",
    "# Train predictions\n",
    "y_pred_train_rf = rf_model.predict(X_train_resampled)\n",
    "\n",
    "# Test predictions\n",
    "y_pred_test_rf = rf_model.predict(X_test_scaled)\n",
    "\n",
    "print(\"Training Accuracy:\", accuracy_score(y_train_resampled, y_pred_train_rf))\n",
    "print(\"\\nTraining Classification Report:\\n\", classification_report(y_train_resampled, y_pred_train_rf))\n",
    "print(\"\\nTraining Confusion Matrix:\\n\", confusion_matrix(y_train_resampled, y_pred_train_rf))\n",
    "\n",
    "print(\"\\nTest Accuracy:\", accuracy_score(y_test, y_pred_test_rf))\n",
    "print(\"\\nTest Classification Report:\\n\", classification_report(y_test, y_pred_test_rf))\n",
    "print(\"\\nTest Confusion Matrix:\\n\", confusion_matrix(y_test, y_pred_test_rf))\n"
   ]
  },
  {
   "cell_type": "markdown",
   "id": "9421ae9f-ad6b-4cd9-a973-902f2734812c",
   "metadata": {},
   "source": [
    "#### XGBoost"
   ]
  },
  {
   "cell_type": "code",
   "execution_count": 48,
   "id": "faa179a7-a6a6-42d8-a04a-c094c26eb4bf",
   "metadata": {},
   "outputs": [
    {
     "name": "stdout",
     "output_type": "stream",
     "text": [
      "Training Accuracy: 0.9555456361160921\n",
      "\n",
      "Training Classification Report:\n",
      "               precision    recall  f1-score   support\n",
      "\n",
      "           0       0.94      0.97      0.96   4448056\n",
      "           1       0.97      0.94      0.95   4448056\n",
      "\n",
      "    accuracy                           0.96   8896112\n",
      "   macro avg       0.96      0.96      0.96   8896112\n",
      "weighted avg       0.96      0.96      0.96   8896112\n",
      "\n",
      "\n",
      "Training Confusion Matrix:\n",
      " [[4329912  118144]\n",
      " [ 277327 4170729]]\n",
      "\n",
      "Test Accuracy: 0.9732945442810247\n",
      "\n",
      "Test Classification Report:\n",
      "               precision    recall  f1-score   support\n",
      "\n",
      "           0       1.00      0.97      0.99   1906351\n",
      "           1       0.04      0.89      0.08      2435\n",
      "\n",
      "    accuracy                           0.97   1908786\n",
      "   macro avg       0.52      0.93      0.53   1908786\n",
      "weighted avg       1.00      0.97      0.99   1908786\n",
      "\n",
      "\n",
      "Test Confusion Matrix:\n",
      " [[1855646   50705]\n",
      " [    270    2165]]\n"
     ]
    }
   ],
   "source": [
    "xgb_model = XGBClassifier(use_label_encoder=False, eval_metric='logloss', random_state=42)\n",
    "xgb_model.fit(X_train_resampled, y_train_resampled)\n",
    "\n",
    "# Train predictions\n",
    "y_pred_train_xgb = xgb_model.predict(X_train_resampled)\n",
    "\n",
    "# Test predictions\n",
    "y_pred_test_xgb = xgb_model.predict(X_test_scaled)\n",
    "\n",
    "print(\"Training Accuracy:\", accuracy_score(y_train_resampled, y_pred_train_xgb))\n",
    "print(\"\\nTraining Classification Report:\\n\", classification_report(y_train_resampled, y_pred_train_xgb))\n",
    "print(\"\\nTraining Confusion Matrix:\\n\", confusion_matrix(y_train_resampled, y_pred_train_xgb))\n",
    "\n",
    "print(\"\\nTest Accuracy:\", accuracy_score(y_test, y_pred_test_xgb))\n",
    "print(\"\\nTest Classification Report:\\n\", classification_report(y_test, y_pred_test_xgb))\n",
    "print(\"\\nTest Confusion Matrix:\\n\", confusion_matrix(y_test, y_pred_test_xgb))\n"
   ]
  },
  {
   "cell_type": "markdown",
   "id": "f1ac7400-5a6d-49ef-9dbd-83b98b24edca",
   "metadata": {},
   "source": [
    "#### LightGBM"
   ]
  },
  {
   "cell_type": "code",
   "execution_count": 51,
   "id": "2f827aff-b5a0-404c-9c7a-654e5dca2e88",
   "metadata": {},
   "outputs": [
    {
     "name": "stdout",
     "output_type": "stream",
     "text": [
      "[LightGBM] [Info] Number of positive: 4448056, number of negative: 4448056\n",
      "[LightGBM] [Info] Auto-choosing row-wise multi-threading, the overhead of testing was 0.060674 seconds.\n",
      "You can set `force_row_wise=true` to remove the overhead.\n",
      "And if memory is not enough, you can set `force_col_wise=true`.\n",
      "[LightGBM] [Info] Total Bins 779\n",
      "[LightGBM] [Info] Number of data points in the train set: 8896112, number of used features: 5\n",
      "[LightGBM] [Info] [binary:BoostFromScore]: pavg=0.500000 -> initscore=0.000000\n",
      "Training Accuracy: 0.9469186089383766\n",
      "\n",
      "Training Classification Report:\n",
      "               precision    recall  f1-score   support\n",
      "\n",
      "           0       0.93      0.97      0.95   4448056\n",
      "           1       0.97      0.92      0.95   4448056\n",
      "\n",
      "    accuracy                           0.95   8896112\n",
      "   macro avg       0.95      0.95      0.95   8896112\n",
      "weighted avg       0.95      0.95      0.95   8896112\n",
      "\n",
      "\n",
      "Training Confusion Matrix:\n",
      " [[4309690  138366]\n",
      " [ 333852 4114204]]\n",
      "\n",
      "Test Accuracy: 0.9688335937082523\n",
      "\n",
      "Test Classification Report:\n",
      "               precision    recall  f1-score   support\n",
      "\n",
      "           0       1.00      0.97      0.98   1906351\n",
      "           1       0.04      0.91      0.07      2435\n",
      "\n",
      "    accuracy                           0.97   1908786\n",
      "   macro avg       0.52      0.94      0.53   1908786\n",
      "weighted avg       1.00      0.97      0.98   1908786\n",
      "\n",
      "\n",
      "Test Confusion Matrix:\n",
      " [[1847092   59259]\n",
      " [    231    2204]]\n"
     ]
    }
   ],
   "source": [
    "\n",
    "lgb_model = LGBMClassifier(random_state=42)\n",
    "lgb_model.fit(X_train_resampled, y_train_resampled)\n",
    "\n",
    "# Train predictions\n",
    "y_pred_train_lgb = lgb_model.predict(X_train_resampled)\n",
    "\n",
    "# Test predictions\n",
    "y_pred_test_lgb = lgb_model.predict(X_test_scaled)\n",
    "\n",
    "print(\"Training Accuracy:\", accuracy_score(y_train_resampled, y_pred_train_lgb))\n",
    "print(\"\\nTraining Classification Report:\\n\", classification_report(y_train_resampled, y_pred_train_lgb))\n",
    "print(\"\\nTraining Confusion Matrix:\\n\", confusion_matrix(y_train_resampled, y_pred_train_lgb))\n",
    "\n",
    "print(\"\\nTest Accuracy:\", accuracy_score(y_test, y_pred_test_lgb))\n",
    "print(\"\\nTest Classification Report:\\n\", classification_report(y_test, y_pred_test_lgb))\n",
    "print(\"\\nTest Confusion Matrix:\\n\", confusion_matrix(y_test, y_pred_test_lgb))\n"
   ]
  },
  {
   "cell_type": "raw",
   "id": "870f48dc-1217-4fc2-95a5-ea69f22ca8dc",
   "metadata": {},
   "source": []
  },
  {
   "cell_type": "markdown",
   "id": "c552ad2c-6910-4199-a27a-a144c1ccb0d6",
   "metadata": {},
   "source": [
    "#### Hyperparameter Tunning"
   ]
  },
  {
   "cell_type": "raw",
   "id": "8ad148ac-c565-4e20-bd48-eb23e9d37c04",
   "metadata": {},
   "source": [
    "Tuning the models by selecting important features and building models using random search cv "
   ]
  },
  {
   "cell_type": "code",
   "execution_count": 30,
   "id": "f3fcb965-e574-4105-a33d-c63da8183ce8",
   "metadata": {},
   "outputs": [],
   "source": [
    "# Sample 10% for tuning ( because dataset is too large)\n",
    "\n",
    "# Convert to DataFrame \n",
    "X_train_resampled_df = pd.DataFrame(X_train_resampled)\n",
    "y_train_resampled_df = pd.Series(y_train_resampled)\n",
    "\n",
    "# Sample 10% of the training data\n",
    "sampled_X = X_train_resampled_df.sample(frac=0.1, random_state=42)\n",
    "sampled_y = y_train_resampled_df.loc[sampled_X.index]\n"
   ]
  },
  {
   "cell_type": "markdown",
   "id": "4a3208a3-5ca1-4060-9563-0d62c01a58bf",
   "metadata": {},
   "source": [
    "**Tuned Random forest**"
   ]
  },
  {
   "cell_type": "code",
   "execution_count": 59,
   "id": "f07a053a-1eaa-45f9-a5d1-b2e10fb8e783",
   "metadata": {},
   "outputs": [
    {
     "name": "stdout",
     "output_type": "stream",
     "text": [
      "Fitting 3 folds for each of 10 candidates, totalling 30 fits\n",
      "Accuracy: 0.9613126498407394\n",
      "Classification Report:\n",
      "               precision    recall  f1-score   support\n",
      "\n",
      "           0       0.95      0.97      0.96   4448056\n",
      "           1       0.97      0.95      0.96   4448056\n",
      "\n",
      "    accuracy                           0.96   8896112\n",
      "   macro avg       0.96      0.96      0.96   8896112\n",
      "weighted avg       0.96      0.96      0.96   8896112\n",
      "\n",
      "Confusion Matrix:\n",
      " [[4329076  118980]\n",
      " [ 225187 4222869]]\n",
      "Accuracy: 0.9730525056239935\n",
      "Classification Report:\n",
      "               precision    recall  f1-score   support\n",
      "\n",
      "           0       1.00      0.97      0.99   1906351\n",
      "           1       0.04      0.88      0.08      2435\n",
      "\n",
      "    accuracy                           0.97   1908786\n",
      "   macro avg       0.52      0.93      0.53   1908786\n",
      "weighted avg       1.00      0.97      0.99   1908786\n",
      "\n",
      "Confusion Matrix:\n",
      " [[1855209   51142]\n",
      " [    295    2140]]\n"
     ]
    }
   ],
   "source": [
    "param_dist = {\n",
    "    'n_estimators': [100, 200, 300],\n",
    "    'max_depth': [3, 5, 7],\n",
    "    'learning_rate': [0.01, 0.1, 0.2],\n",
    "    'subsample': [0.6, 0.8, 1.0],\n",
    "    'colsample_bytree': [0.6, 0.8, 1.0]\n",
    "}\n",
    "\n",
    "# Randomized Search CV on 10% data\n",
    "xgb = XGBClassifier(use_label_encoder=False, eval_metric='logloss', random_state=42)\n",
    "random_search = RandomizedSearchCV(xgb, param_distributions=param_dist,\n",
    "                                   n_iter=10, scoring='accuracy', cv=3,\n",
    "                                   verbose=1, random_state=42, n_jobs=-1)\n",
    "\n",
    "random_search.fit(sampled_X, sampled_y)\n",
    "\n",
    "best_params = random_search.best_params_\n",
    "\n",
    "final_xgb = XGBClassifier(**best_params, use_label_encoder=False, eval_metric='logloss', random_state=42)\n",
    "final_xgb.fit(X_train_resampled, y_train_resampled)\n",
    "\n",
    "y_pred_train = final_xgb.predict(X_train_resampled)\n",
    "y_pred_test = final_xgb.predict(X_test_scaled)\n",
    "\n",
    "print(\"Accuracy:\", accuracy_score(y_train_resampled, y_pred_train))\n",
    "print(\"Classification Report:\\n\", classification_report(y_train_resampled, y_pred_train))\n",
    "print(\"Confusion Matrix:\\n\", confusion_matrix(y_train_resampled, y_pred_train))\n",
    "\n",
    "print(\"Accuracy:\", accuracy_score(y_test, y_pred_test))\n",
    "print(\"Classification Report:\\n\", classification_report(y_test, y_pred_test))\n",
    "print(\"Confusion Matrix:\\n\", confusion_matrix(y_test, y_pred_test))"
   ]
  },
  {
   "cell_type": "markdown",
   "id": "fe5817a9-8fc3-4926-a378-c3400ae8bfba",
   "metadata": {},
   "source": [
    "**Tuned XGB**"
   ]
  },
  {
   "cell_type": "code",
   "execution_count": 36,
   "id": "ff5e4e1d-98e2-4a4d-bb03-87879db87731",
   "metadata": {},
   "outputs": [
    {
     "name": "stdout",
     "output_type": "stream",
     "text": [
      "Fitting 3 folds for each of 10 candidates, totalling 30 fits\n",
      "Train Metrics:\n",
      "Accuracy: 0.9499707287857887\n",
      "F1 Score: 0.9497214416080246\n",
      "Classification Report:\n",
      "               precision    recall  f1-score   support\n",
      "\n",
      "           0       0.95      0.95      0.95   4448056\n",
      "           1       0.95      0.95      0.95   4448056\n",
      "\n",
      "    accuracy                           0.95   8896112\n",
      "   macro avg       0.95      0.95      0.95   8896112\n",
      "weighted avg       0.95      0.95      0.95   8896112\n",
      "\n",
      "Confusion Matrix:\n",
      " [[4247577  200479]\n",
      " [ 244587 4203469]]\n",
      "\n",
      "Test Metrics:\n",
      "Accuracy: 0.9547880170956828\n",
      "F1 Score: 0.04955947136563876\n",
      "Classification Report:\n",
      "               precision    recall  f1-score   support\n",
      "\n",
      "           0       1.00      0.95      0.98   1906351\n",
      "           1       0.03      0.92      0.05      2435\n",
      "\n",
      "    accuracy                           0.95   1908786\n",
      "   macro avg       0.51      0.94      0.51   1908786\n",
      "weighted avg       1.00      0.95      0.98   1908786\n",
      "\n",
      "Confusion Matrix:\n",
      " [[1820236   86115]\n",
      " [    185    2250]]\n"
     ]
    }
   ],
   "source": [
    "xgb_model = XGBClassifier(random_state=42, use_label_encoder=False, eval_metric='logloss')\n",
    "\n",
    "# Define hyperparameter space\n",
    "param_dist = {\n",
    "    'n_estimators': [100, 200, 300],\n",
    "    'max_depth': [3, 5, 7, 10],\n",
    "    'learning_rate': [0.01, 0.05, 0.1],\n",
    "    'subsample': [0.6, 0.8, 1.0],\n",
    "    'colsample_bytree': [0.6, 0.8, 1.0]\n",
    "}\n",
    "\n",
    "# Randomized Search\n",
    "random_search = RandomizedSearchCV(\n",
    "    estimator=xgb_model,\n",
    "    param_distributions=param_dist,\n",
    "    n_iter=10,\n",
    "    cv=3,\n",
    "    verbose=1,\n",
    "    random_state=42,\n",
    "    n_jobs=-1\n",
    ")\n",
    "\n",
    "# Fit model on sampled data\n",
    "random_search.fit(sampled_X, sampled_y)\n",
    "\n",
    "# Best estimator\n",
    "best_xgb = random_search.best_estimator_\n",
    "\n",
    "# Predict probabilities\n",
    "y_proba_train = best_xgb.predict_proba(X_train_resampled_df)[:, 1]\n",
    "y_proba_test = best_xgb.predict_proba(X_test_scaled)[:, 1]\n",
    "\n",
    "# Find best threshold on training data\n",
    "prec, rec, thresholds = precision_recall_curve(y_train_resampled_df, y_proba_train)\n",
    "f1_scores = 2 * prec * rec / (prec + rec + 1e-6)\n",
    "best_threshold = thresholds[np.argmax(f1_scores)]\n",
    "\n",
    "# Apply best threshold to get final predictions\n",
    "y_pred_train = (y_proba_train >= best_threshold).astype(int)\n",
    "y_pred_test = (y_proba_test >= best_threshold).astype(int)\n",
    "\n",
    "print(\"Train Metrics:\")\n",
    "print(\"Accuracy:\", accuracy_score(y_train_resampled_df, y_pred_train))\n",
    "print(\"F1 Score:\", f1_score(y_train_resampled_df, y_pred_train))\n",
    "print(\"Classification Report:\\n\", classification_report(y_train_resampled_df, y_pred_train, zero_division=0))\n",
    "print(\"Confusion Matrix:\\n\", confusion_matrix(y_train_resampled_df, y_pred_train))\n",
    "\n",
    "print(\"\\nTest Metrics:\")\n",
    "print(\"Accuracy:\", accuracy_score(y_test, y_pred_test))\n",
    "print(\"F1 Score:\", f1_score(y_test, y_pred_test))\n",
    "print(\"Classification Report:\\n\", classification_report(y_test, y_pred_test, zero_division=0))\n",
    "print(\"Confusion Matrix:\\n\", confusion_matrix(y_test, y_pred_test))"
   ]
  },
  {
   "cell_type": "code",
   "execution_count": null,
   "id": "e2f0bc04-cbc8-40b0-804c-ea2af9d7c0c1",
   "metadata": {},
   "outputs": [],
   "source": []
  },
  {
   "cell_type": "markdown",
   "id": "84456195-275d-4774-a2b9-c45f8a8dbfde",
   "metadata": {},
   "source": [
    "**Tuned LightGBM**"
   ]
  },
  {
   "cell_type": "code",
   "execution_count": 35,
   "id": "c14e9eb2-36ae-4a36-9f1d-bb4fb923bf8a",
   "metadata": {},
   "outputs": [
    {
     "name": "stdout",
     "output_type": "stream",
     "text": [
      "Fitting 3 folds for each of 10 candidates, totalling 30 fits\n",
      "[LightGBM] [Info] Number of positive: 444796, number of negative: 444815\n",
      "[LightGBM] [Info] Auto-choosing row-wise multi-threading, the overhead of testing was 0.004265 seconds.\n",
      "You can set `force_row_wise=true` to remove the overhead.\n",
      "And if memory is not enough, you can set `force_col_wise=true`.\n",
      "[LightGBM] [Info] Total Bins 777\n",
      "[LightGBM] [Info] Number of data points in the train set: 889611, number of used features: 5\n",
      "[LightGBM] [Info] [binary:BoostFromScore]: pavg=0.499989 -> initscore=-0.000043\n",
      "[LightGBM] [Info] Start training from score -0.000043\n",
      "Best threshold based on F1 score: 0.989\n",
      "Train Accuracy: 0.9995359054693103\n",
      "Train Classification Report:\n",
      "               precision    recall  f1-score   support\n",
      "\n",
      "           0       1.00      1.00      1.00   4448056\n",
      "           1       0.89      0.73      0.80      5778\n",
      "\n",
      "    accuracy                           1.00   4453834\n",
      "   macro avg       0.95      0.86      0.90   4453834\n",
      "weighted avg       1.00      1.00      1.00   4453834\n",
      "\n",
      "Train Confusion Matrix:\n",
      " [[4447558     498]\n",
      " [   1569    4209]]\n",
      "Test Accuracy: 0.9995279722294694\n",
      "Test Classification Report:\n",
      "               precision    recall  f1-score   support\n",
      "\n",
      "           0       1.00      1.00      1.00   1906351\n",
      "           1       0.90      0.71      0.79      2435\n",
      "\n",
      "    accuracy                           1.00   1908786\n",
      "   macro avg       0.95      0.85      0.90   1908786\n",
      "weighted avg       1.00      1.00      1.00   1908786\n",
      "\n",
      "Test Confusion Matrix:\n",
      " [[1906158     193]\n",
      " [    708    1727]]\n"
     ]
    }
   ],
   "source": [
    "# Define parameter grid for tuning\n",
    "param_grid = {\n",
    "    'n_estimators': [100, 200, 300],\n",
    "    'learning_rate': [0.01, 0.05, 0.1],\n",
    "    'max_depth': [3, 5, 7, 10],\n",
    "    'num_leaves': [20, 31, 40],\n",
    "    'subsample': [0.6, 0.8, 1.0],\n",
    "    'colsample_bytree': [0.6, 0.8, 1.0]\n",
    "}\n",
    "\n",
    "# Initialize model\n",
    "model = LGBMClassifier(random_state=42)\n",
    "\n",
    "# Hyperparameter tuning with RandomizedSearchCV\n",
    "random_search = RandomizedSearchCV(estimator=model,\n",
    "                                   param_distributions=param_grid,\n",
    "                                   n_iter=10,\n",
    "                                   scoring='f1_weighted',\n",
    "                                   cv=3,\n",
    "                                   verbose=1,\n",
    "                                   n_jobs=-1,\n",
    "                                   random_state=42)\n",
    "\n",
    "# Fit on 10% sampled SMOTE-resampled data\n",
    "random_search.fit(sampled_X, sampled_y)\n",
    "\n",
    "# Best model\n",
    "best_lgb = random_search.best_estimator_\n",
    "\n",
    "# Get predicted probabilities instead of class labels\n",
    "y_proba_train = best_lgb.predict_proba(X_train_scaled)[:, 1]\n",
    "y_proba_test = best_lgb.predict_proba(X_test_scaled)[:, 1]\n",
    "\n",
    "# Using precision-recall curve to find best threshold\n",
    "precision, recall, thresholds = precision_recall_curve(y_test, y_proba_test)\n",
    "f1_scores = 2 * precision * recall / (precision + recall + 1e-6)\n",
    "best_threshold = thresholds[np.argmax(f1_scores)]\n",
    "\n",
    "print(f\"Best threshold based on F1 score: {best_threshold:.3f}\")\n",
    "\n",
    "# Applying threshold to get final predictions\n",
    "y_pred_train = (y_proba_train >= best_threshold).astype(int)\n",
    "y_pred_test = (y_proba_test >= best_threshold).astype(int)\n",
    "\n",
    "print(\"Train Accuracy:\", accuracy_score(y_train, y_pred_train))\n",
    "print(\"Train Classification Report:\\n\", classification_report(y_train, y_pred_train, zero_division=0))\n",
    "print(\"Train Confusion Matrix:\\n\", confusion_matrix(y_train, y_pred_train))\n",
    "\n",
    "print(\"Test Accuracy:\", accuracy_score(y_test, y_pred_test))\n",
    "print(\"Test Classification Report:\\n\", classification_report(y_test, y_pred_test, zero_division=0))\n",
    "print(\"Test Confusion Matrix:\\n\", confusion_matrix(y_test, y_pred_test))\n"
   ]
  },
  {
   "cell_type": "raw",
   "id": "ff4a7111-168d-4118-9fad-910f1fbd7dbd",
   "metadata": {},
   "source": [
    "After performing SMOTE oversampling on the training dataset to handle class imbalance, multiple models were trained including LightGBM, random forest and XGBoost. Despite achieving very high accuracy all all models exhibited imbalanced performance in precision and recall, especially on the minority class (fraud cases or class 1)."
   ]
  },
  {
   "cell_type": "code",
   "execution_count": null,
   "id": "d87bf2a1-cba7-4c10-90e6-3abd8d2fb1a6",
   "metadata": {},
   "outputs": [],
   "source": []
  },
  {
   "cell_type": "code",
   "execution_count": null,
   "id": "d494cfc2-bf6c-47e6-a23b-aac1e308ec59",
   "metadata": {},
   "outputs": [],
   "source": []
  }
 ],
 "metadata": {
  "kernelspec": {
   "display_name": "Python 3 (ipykernel)",
   "language": "python",
   "name": "python3"
  },
  "language_info": {
   "codemirror_mode": {
    "name": "ipython",
    "version": 3
   },
   "file_extension": ".py",
   "mimetype": "text/x-python",
   "name": "python",
   "nbconvert_exporter": "python",
   "pygments_lexer": "ipython3",
   "version": "3.12.4"
  }
 },
 "nbformat": 4,
 "nbformat_minor": 5
}
